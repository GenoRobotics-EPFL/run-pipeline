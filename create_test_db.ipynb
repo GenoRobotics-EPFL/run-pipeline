{
 "cells": [
  {
   "cell_type": "markdown",
   "metadata": {},
   "source": [
    "# Test Database Formation\n",
    "This notebook turns an expedition folder with the results of multiple sequencings and a description excel file into a small database for testing the difference consensus/identification pipelines."
   ]
  },
  {
   "cell_type": "markdown",
   "metadata": {},
   "source": [
    "#### Imports"
   ]
  },
  {
   "cell_type": "code",
   "execution_count": 1,
   "metadata": {},
   "outputs": [],
   "source": [
    "from general_helpers import *\n",
    "import os.path as ospath\n",
    "import pandas as pd\n",
    "import os"
   ]
  },
  {
   "cell_type": "markdown",
   "metadata": {},
   "source": [
    "#### Setting the name of the expedition folder to be converted and the name of the new test database\n",
    "\n",
    "all of the databases are stored in the folder `testdbs`. Please choose the name of the expedition folder in `input_expidition_folder` and the name you want to give to the newly created database in `name_of_db`"
   ]
  },
  {
   "cell_type": "code",
   "execution_count": 2,
   "metadata": {},
   "outputs": [],
   "source": [
    "input_expedition_folder = \"matK_rbcL_trnh_ITS_12samples_publicationsummer2022_9Qiagen_3MN\"\n",
    "name_of_db = \"summer_expedition_experiments\""
   ]
  },
  {
   "cell_type": "markdown",
   "metadata": {},
   "source": [
    "#### Finding the location of the description sample excel file"
   ]
  },
  {
   "cell_type": "code",
   "execution_count": 15,
   "metadata": {},
   "outputs": [
    {
     "name": "stdout",
     "output_type": "stream",
     "text": [
      "input/matK_rbcL_trnh_ITS_12samples_publicationsummer2022_9Qiagen_3MN/Description_sample.xlsx\n"
     ]
    }
   ],
   "source": [
    "db_path = ospath.join(\"input\", input_expedition_folder)\n",
    "main_dir = None\n",
    "for root, dirs, files in os.walk(db_path):\n",
    "    if \"Description_sample.xlsx\" in files:\n",
    "        main_dir = root\n",
    "        description_path = ospath.join(main_dir,\"Description_sample.xlsx\")\n",
    "    break\n",
    "if main_dir == None:\n",
    "    print(\"There is no excel description folder for expedition\")\n",
    "else: \n",
    "    print(description_path)"
   ]
  },
  {
   "cell_type": "markdown",
   "metadata": {},
   "source": [
    "#### extracting information about genes sequenced for each plant, barcode sequences and general expedition information.\n",
    "The excel description file needs to have a very specific structure with:\n",
    "- general information in the first sheet (columns: ref, experiment, description, notes).\n",
    "- the barcode sequences as numbered rows in the second sheet.\n",
    "- information about the genes sequenced for each species in the third sheet (columns = samples, species, matk, rbcL, trnH-psbA, ITS).\n",
    "\n",
    "For the third sheet, an X indicates that the species was sequenced for this gene and an empty cell that it was not."
   ]
  },
  {
   "cell_type": "code",
   "execution_count": 17,
   "metadata": {},
   "outputs": [
    {
     "name": "stdout",
     "output_type": "stream",
     "text": [
      "Experiment: Sequencing of Qiagen samples without purification\n"
     ]
    }
   ],
   "source": [
    "info_db = pd.read_excel(description_path,sheet_name=0,index_col=0)\n",
    "barseq_db = pd.read_excel(description_path,sheet_name=1,index_col=0)\n",
    "sample_db = pd.read_excel(description_path,sheet_name=2,index_col=0)\n",
    "primer_db = pd.read_excel(description_path,sheet_name=3,index_col=0)\n",
    "sample_db[sample_db == \"X\"]= True\n",
    "sample_db[sample_db.isna()]= False\n",
    "print(\"Experiment:\", info_db.experiment[0])"
   ]
  },
  {
   "cell_type": "markdown",
   "metadata": {},
   "source": [
    "#### Creating the new test database\n",
    "for each sample, the corresponding fastq pass reads are extracted in one file. Thre is also a fasta file with the reference sequences for matK, rbcL, psbA-trnH and ITS from GenBank."
   ]
  },
  {
   "cell_type": "code",
   "execution_count": 12,
   "metadata": {},
   "outputs": [],
   "source": [
    "#creating the new database folder\n",
    "new_db = ospath.join(\"testdbs\", name_of_db)\n",
    "if not ospath.exists(new_db):\n",
    "    os.makedirs(new_db)\n",
    "\n",
    "#iterating over the samples\n",
    "for index, row in sample_db.iterrows():\n",
    "\n",
    "    #new folder for each sample\n",
    "    species = row[\"Species\"].replace(\" \", \"_\")\n",
    "    new_dir= ospath.join(new_db, species+\"_sample\"+str(index))\n",
    "    if not ospath.exists(new_dir):\n",
    "        os.makedirs(new_dir)\n",
    "\n",
    "    #extracting the fastq from the input expedition folder\n",
    "    file_location = ospath.join(new_dir, species+\"_sample\"+str(index) )\n",
    "    extract_fastq(main_dir, index, file_location)\n",
    "\n",
    "    #downloading the reference sequences from NCBI\n",
    "    reference_seq_location = ospath.join(new_dir, species+\"_reference_seq.fasta\")\n",
    "    gene_list = [\"matK\", \"rbcL\", \"trnH-psbA\", \"ITS\"]\n",
    "    for gene in gene_list:\n",
    "        download_sequence(row[\"Species\"], gene, reference_seq_location, 0, 5000)   \n",
    "\n"
   ]
  },
  {
   "cell_type": "markdown",
   "metadata": {},
   "source": [
    "#### Logging information about the expedition as csv files to be easily reimported as Pandas DataFrames."
   ]
  },
  {
   "cell_type": "code",
   "execution_count": 18,
   "metadata": {},
   "outputs": [],
   "source": [
    "info_db.to_csv(ospath.join(new_db, \"general_info.csv\"))\n",
    "sample_db.to_csv(ospath.join(new_db, \"sample_info.csv\"))\n",
    "primer_db.to_csv(ospath.join(new_db, \"primer_info.csv\"))"
   ]
  }
 ],
 "metadata": {
  "kernelspec": {
   "display_name": "genorobotics_pipeline",
   "language": "python",
   "name": "python3"
  },
  "language_info": {
   "codemirror_mode": {
    "name": "ipython",
    "version": 3
   },
   "file_extension": ".py",
   "mimetype": "text/x-python",
   "name": "python",
   "nbconvert_exporter": "python",
   "pygments_lexer": "ipython3",
   "version": "3.10.11"
  }
 },
 "nbformat": 4,
 "nbformat_minor": 2
}
