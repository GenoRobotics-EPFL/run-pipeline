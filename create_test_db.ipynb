{
 "cells": [
  {
   "cell_type": "markdown",
   "metadata": {},
   "source": [
    "# Test Database Formation\n",
    "This notebook turns an expedition folder with the results of multiple sequencings and a description excel file into a small database for testing the difference consensus/identification pipelines. The unsorted expedition folder is added in an `input` folder and the resulting test database is saved in `testdbs`.\n",
    "\n",
    "## Format of the input expedition folder\n",
    "\n",
    "The expedition folder does not need to be sorted beforehand to contain only the fastq files. However, it must respect some conventions:\n",
    "- all the fastq files should be in folders named `barcode{barcode#}`. These folders should either be found in a `fastq_pass` parent directory or a `barcoding` parent directory, as is usually the case for expedition folders.\n",
    "- the `barcode{barcode#}` folders should only contain fastq files or .gz zips of fastq files. The presence of other types of files will cause the code to crash\n",
    "- the expedition folder should contain an excel describing the samples called `Description_sample.xlsx`\n",
    "\n",
    "## Format of the description file\n",
    "\n",
    "The description excel file has a very specific format and should be filled in from the template provided. You can check [this example](Description_sample.xlsx) on how to fill it in.\n",
    "- the first sheet contains general information about the expedition (columns: ref, experiment, description, notes)\n",
    "- the second sheet contains the barcode sequences\n",
    "- the third sheet contains the samples and genes sequenced for each barcode (columns: Barcode, Species, gene, Volume(ml), note)\n",
    "- the fourth sheet contains the primers used"
   ]
  },
  {
   "cell_type": "markdown",
   "metadata": {},
   "source": [
    "#### Imports"
   ]
  },
  {
   "cell_type": "code",
   "execution_count": null,
   "metadata": {},
   "outputs": [],
   "source": [
    "from utils.access_genbank import *\n",
    "from utils.process_fastq import *\n",
    "import os.path as ospath\n",
    "import pandas as pd\n",
    "import os\n",
    "import shutil"
   ]
  },
  {
   "cell_type": "markdown",
   "metadata": {},
   "source": [
    "### Creating an input folder\n",
    "\n",
    "Run the following code snippet to create an input folder if is does not exist yet, you can then add your unsorted expedition folder in the input folder"
   ]
  },
  {
   "cell_type": "code",
   "execution_count": null,
   "metadata": {},
   "outputs": [],
   "source": [
    "if not ospath.exists(\"input\"):\n",
    "    os.makedirs(\"input\")"
   ]
  },
  {
   "cell_type": "markdown",
   "metadata": {},
   "source": [
    "#### Setting parameters for expedition folder conversion\n",
    "\n",
    "all of the databases are stored in the folder `testdbs`. Please fill in:\n",
    "- the name of the expedition folder you want to convert in `input_expedition_folder` \n",
    "- the name you want to give to the newly created database in `name_of_db`\n",
    "- the `permissive_search` parameter (True or False). This has to do with the modality of searching for reference sequences in GenBank. For each species and gene sequenced, the newly sorted test database will contain the reference fasta sequences it extracts from GenBank. By default, the code will try an advanced search to get accurate results (ex: \"Ailanthus altissima[species] AND matK[gene name] AND 0:5000[sequence_length]\" ). If this advanced search fails, the permissive search parameter determines whether the code should:\n",
    "    - `False`: not include a reference sequence \n",
    "    - `True`: try to find a reference sequence through a \"permissive\" less accurate search (True) (ex: \"Ailanthus altissima matK\")\n",
    "\n",
    "While the advanced GenBank search returns very accurate results when it works, it very often does not return anything, which is why we recommend setting this parameter to `True` while taking the reference sequences with a grain of salt."
   ]
  },
  {
   "cell_type": "code",
   "execution_count": null,
   "metadata": {},
   "outputs": [],
   "source": [
    "input_expedition_folder = \"matK_rbcL_trnh_ITS_12samples_publicationsummer2022_9Qiagen_3MN\"\n",
    "name_of_db = \"summer_expedition\"\n",
    "permissive_search = True\n",
    "\n",
    "if not ospath.exists(ospath.join(\"input\", input_expedition_folder)):\n",
    "    raise ValueError(f\"There is no input expedition folder associated with the value: `{input_expedition_folder}`\")\n",
    "if ospath.exists(ospath.join(\"testdbs\", name_of_db)):\n",
    "    decision = str(input(f\"There is already a folder named `{name_of_db}`, would you like to overwrite it, add to it, or stop execution? [o/a/s]\"))\n",
    "    if decision == \"o\":\n",
    "        shutil.rmtree(ospath.join(\"testdbs\", name_of_db))\n",
    "    elif decision == \"s\":\n",
    "        raise FileExistsError(\"you decided to terminate the program because a test database with the name you chose already exists\")\n",
    "\n",
    "        "
   ]
  },
  {
   "cell_type": "markdown",
   "metadata": {},
   "source": [
    "#### Finding the location of the description sample excel file"
   ]
  },
  {
   "cell_type": "code",
   "execution_count": null,
   "metadata": {},
   "outputs": [],
   "source": [
    "db_path = ospath.join(\"input\", input_expedition_folder)\n",
    "main_dir = None\n",
    "for root, dirs, files in os.walk(db_path):\n",
    "    if \"Description_sample.xlsx\" in files:\n",
    "        main_dir = root\n",
    "        description_path = ospath.join(main_dir,\"Description_sample.xlsx\")\n",
    "    break\n",
    "if main_dir == None:\n",
    "    print(\"There is no excel description folder for expedition\")\n",
    "else: \n",
    "    print(description_path)"
   ]
  },
  {
   "cell_type": "markdown",
   "metadata": {},
   "source": [
    "#### extracting information about genes sequenced for each plant, barcode sequences and general expedition information."
   ]
  },
  {
   "cell_type": "code",
   "execution_count": null,
   "metadata": {},
   "outputs": [],
   "source": [
    "info_db = pd.read_excel(description_path,sheet_name=0,index_col=0)\n",
    "barseq_db = pd.read_excel(description_path,sheet_name=1)\n",
    "sample_db = pd.read_excel(description_path,sheet_name=2)\n",
    "primer_db = pd.read_excel(description_path,sheet_name=3)\n",
    "print(\"Experiment:\", info_db.experiment[0])\n",
    "sample_db.note[sample_db.note.isna()] = \"No Note\"\n",
    "print(sample_db.head())"
   ]
  },
  {
   "cell_type": "markdown",
   "metadata": {},
   "source": [
    "#### Creating the new test database\n",
    "for each sample, the corresponding fastq pass reads are extracted in one file. Thre is also a fasta file with the reference sequences for the genes sequenced from GenBank."
   ]
  },
  {
   "cell_type": "code",
   "execution_count": null,
   "metadata": {},
   "outputs": [],
   "source": [
    "#creating the new database folder\n",
    "new_db = ospath.join(\"testdbs\", name_of_db)\n",
    "if not ospath.exists(new_db):\n",
    "    os.makedirs(new_db)\n",
    "\n",
    "#iterating over the samples\n",
    "for index, row in sample_db.iterrows():\n",
    "\n",
    "    #new folder for each sample\n",
    "    species = row[\"Species\"].replace(\" \", \"_\")\n",
    "\n",
    "    genes = row[\"gene\"].split(\",\")\n",
    "    genes =[gene.replace(\" \", \"\") for gene in genes]\n",
    "\n",
    "    gene_str= row[\"gene\"].replace(\" \", \"\")\n",
    "    gene_str= gene_str.replace(\",\",\"_\")\n",
    "    \n",
    "    new_dir= ospath.join(new_db, species+\"_\"+ gene_str+ \"_barcode\"+str(row[\"Barcode\"]))\n",
    "    if not ospath.exists(new_dir):\n",
    "        os.makedirs(new_dir)\n",
    "\n",
    "    #extracting the fastq from the input expedition folder\n",
    "    file_location = ospath.join(new_dir, species+ gene_str+ \"_barcode\"+str(row[\"Barcode\"]) )\n",
    "    extract_fastq(main_dir, row[\"Barcode\"], file_location,where_to_look=[\"fastq_pass\"])\n",
    "\n",
    "    #downloading the reference sequences from NCBI\n",
    "    reference_seq_location = ospath.join(new_dir, species+\"_reference_seq.fasta\")\n",
    "    for gene in genes:\n",
    "        download_sequence(row[\"Species\"], gene, reference_seq_location, 0, 5000, permissive_search=permissive_search)\n",
    "\n"
   ]
  },
  {
   "cell_type": "markdown",
   "metadata": {},
   "source": [
    "#### Logging information about the expedition as csv files to be easily reimported as Pandas DataFrames."
   ]
  },
  {
   "cell_type": "code",
   "execution_count": null,
   "metadata": {},
   "outputs": [],
   "source": [
    "info_db.to_csv(ospath.join(new_db, \"general_info.csv\"))\n",
    "sample_db.to_csv(ospath.join(new_db, \"sample_info.csv\"))\n",
    "primer_db.to_csv(ospath.join(new_db, \"primer_info.csv\"))"
   ]
  }
 ],
 "metadata": {
  "kernelspec": {
   "display_name": "genorobotics_pipeline",
   "language": "python",
   "name": "python3"
  },
  "language_info": {
   "codemirror_mode": {
    "name": "ipython",
    "version": 3
   },
   "file_extension": ".py",
   "mimetype": "text/x-python",
   "name": "python",
   "nbconvert_exporter": "python",
   "pygments_lexer": "ipython3",
   "version": "3.10.11"
  }
 },
 "nbformat": 4,
 "nbformat_minor": 2
}
